{
  "nbformat": 4,
  "nbformat_minor": 0,
  "metadata": {
    "colab": {
      "provenance": []
    },
    "kernelspec": {
      "name": "python3",
      "display_name": "Python 3"
    },
    "language_info": {
      "name": "python"
    }
  },
  "cells": [
    {
      "cell_type": "code",
      "execution_count": null,
      "metadata": {
        "id": "Dq0pFxQJGCb9"
      },
      "outputs": [],
      "source": [
        "!pip install llama-cpp-python gradio"
      ]
    },
    {
      "cell_type": "code",
      "source": [
        "from llama_cpp import Llama\n",
        "import gradio as gr\n",
        "\n",
        "llm = Llama.from_pretrained(\n",
        "    repo_id=\"h3lmi/modelgguf\",\n",
        "    filename=\"unsloth.Q8_0.gguf\",\n",
        ")"
      ],
      "metadata": {
        "id": "Im6QNmfzPVSt"
      },
      "execution_count": null,
      "outputs": []
    },
    {
      "cell_type": "code",
      "source": [
        "base_prompt = \"\"\"\n",
        "### Instruction: You are a doctor. Answer the following query by a patient.\n",
        "### Input: {}\n",
        "### Response:\n",
        "\"\"\"\n",
        "\n",
        "def generate_response(patient_query):\n",
        "    formatted_prompt = base_prompt.format(patient_query)\n",
        "    output = llm(formatted_prompt, max_tokens=16, echo=False)\n",
        "    return output['choices'][0]['text']\n",
        "\n",
        "# Create the Gradio interface\n",
        "interface = gr.Interface(\n",
        "    fn=generate_response,                          # Function to generate response\n",
        "    inputs=gr.Textbox(lines=8, placeholder=\"Describe your symptoms here...\"), # Input box\n",
        "    outputs=gr.Textbox(label=\"Doctor's Response\"), # Output box\n",
        "    title=\"Doctor AI Assistant\",                  # Title for the app\n",
        "    description=\"Enter your symptoms to get advice from the AI doctor.\", # description\n",
        ")\n",
        "\n",
        "# Launch the app\n",
        "interface.launch()"
      ],
      "metadata": {
        "colab": {
          "base_uri": "https://localhost:8080/",
          "height": 646
        },
        "id": "mXv2sWdkGLmc",
        "outputId": "51e25715-bb00-4cff-a619-666b582c0bc5"
      },
      "execution_count": 21,
      "outputs": [
        {
          "output_type": "stream",
          "name": "stdout",
          "text": [
            "Running Gradio in a Colab notebook requires sharing enabled. Automatically setting `share=True` (you can turn this off by setting `share=False` in `launch()` explicitly).\n",
            "\n",
            "Colab notebook detected. To show errors in colab notebook, set debug=True in launch()\n",
            "* Running on public URL: https://6eca38c40ca76db8e2.gradio.live\n",
            "\n",
            "This share link expires in 72 hours. For free permanent hosting and GPU upgrades, run `gradio deploy` from the terminal in the working directory to deploy to Hugging Face Spaces (https://huggingface.co/spaces)\n"
          ]
        },
        {
          "output_type": "display_data",
          "data": {
            "text/plain": [
              "<IPython.core.display.HTML object>"
            ],
            "text/html": [
              "<div><iframe src=\"https://6eca38c40ca76db8e2.gradio.live\" width=\"100%\" height=\"500\" allow=\"autoplay; camera; microphone; clipboard-read; clipboard-write;\" frameborder=\"0\" allowfullscreen></iframe></div>"
            ]
          },
          "metadata": {}
        },
        {
          "output_type": "execute_result",
          "data": {
            "text/plain": []
          },
          "metadata": {},
          "execution_count": 21
        }
      ]
    },
    {
      "cell_type": "markdown",
      "source": [
        "# Chatbot format"
      ],
      "metadata": {
        "id": "6c0Byw_IWF7K"
      }
    },
    {
      "cell_type": "code",
      "source": [
        "base_prompt = \"\"\"\n",
        "### Instruction: You are a doctor. Answer the following query by a patient.\n",
        "### Input: {}\n",
        "### Response:\n",
        "\"\"\"\n",
        "\n",
        "def generate_response(patient_query,history):\n",
        "    formatted_prompt = base_prompt.format(patient_query)\n",
        "    output = llm(formatted_prompt, max_tokens=16, echo=False)\n",
        "    return output['choices'][0]['text']\n",
        "\n",
        "gr.ChatInterface(\n",
        "    fn=generate_response,\n",
        "    type=\"messages\"\n",
        ").launch()"
      ],
      "metadata": {
        "id": "c2udFRIBIIDt"
      },
      "execution_count": null,
      "outputs": []
    }
  ]
}